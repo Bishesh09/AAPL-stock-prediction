{
  "nbformat": 4,
  "nbformat_minor": 0,
  "metadata": {
    "colab": {
      "provenance": [],
      "authorship_tag": "ABX9TyP27Z0h9s49bu9X+nVH128i",
      "include_colab_link": true
    },
    "kernelspec": {
      "name": "python3",
      "display_name": "Python 3"
    },
    "language_info": {
      "name": "python"
    }
  },
  "cells": [
    {
      "cell_type": "markdown",
      "metadata": {
        "id": "view-in-github",
        "colab_type": "text"
      },
      "source": [
        "<a href=\"https://colab.research.google.com/github/Bishesh09/AAPL-stock-prediction/blob/main/Untitled7.ipynb\" target=\"_parent\"><img src=\"https://colab.research.google.com/assets/colab-badge.svg\" alt=\"Open In Colab\"/></a>"
      ]
    },
    {
      "cell_type": "code",
      "execution_count": 2,
      "metadata": {
        "id": "kXTOBl0B6fqS"
      },
      "outputs": [],
      "source": [
        "import math\n",
        "import pandas_datareader as web\n",
        "import numpy as np\n",
        "import pandas as pd\n",
        "from sklearn.preprocessing import MinMaxScaler\n",
        "from keras.models import Sequential \n",
        "from keras.layers import Dense, LSTM\n",
        "import matplotlib.pyplot as plt\n",
        "plt.style.use('fivethirtyeight')"
      ]
    },
    {
      "cell_type": "code",
      "source": [
        "df=pd.read_csv('AAPL2.csv')\n",
        "df"
      ],
      "metadata": {
        "colab": {
          "base_uri": "https://localhost:8080/",
          "height": 423
        },
        "id": "v9NLktXK7TAW",
        "outputId": "793cac53-3c7d-4942-891b-2448874e1869"
      },
      "execution_count": 13,
      "outputs": [
        {
          "output_type": "execute_result",
          "data": {
            "text/plain": [
              "            Date        Open        High         Low       Close   Adj Close  \\\n",
              "0     2018-02-05   39.775002   40.970001   39.000000   39.122501   37.201580   \n",
              "1     2018-02-06   38.707500   40.930000   38.500000   40.757500   38.756302   \n",
              "2     2018-02-07   40.772499   40.849998   39.767502   39.884998   37.926624   \n",
              "3     2018-02-08   40.072498   40.250000   38.757500   38.787498   36.883022   \n",
              "4     2018-02-09   39.267502   39.472500   37.560001   39.102501   37.334156   \n",
              "...          ...         ...         ...         ...         ...         ...   \n",
              "1254  2023-01-30  144.960007  145.550003  142.850006  143.000000  143.000000   \n",
              "1255  2023-01-31  142.699997  144.339996  142.279999  144.289993  144.289993   \n",
              "1256  2023-02-01  143.970001  146.610001  141.320007  145.429993  145.429993   \n",
              "1257  2023-02-02  148.899994  151.179993  148.169998  150.820007  150.820007   \n",
              "1258  2023-02-03  148.029999  157.380005  147.830002  154.500000  154.500000   \n",
              "\n",
              "         Volume  \n",
              "0     290954000  \n",
              "1     272975200  \n",
              "2     206434400  \n",
              "3     217562000  \n",
              "4     282690400  \n",
              "...         ...  \n",
              "1254   64015300  \n",
              "1255   65874500  \n",
              "1256   77663600  \n",
              "1257  118339000  \n",
              "1258  154279900  \n",
              "\n",
              "[1259 rows x 7 columns]"
            ],
            "text/html": [
              "\n",
              "  <div id=\"df-71bfb930-3464-4376-8647-5b10db00eb98\">\n",
              "    <div class=\"colab-df-container\">\n",
              "      <div>\n",
              "<style scoped>\n",
              "    .dataframe tbody tr th:only-of-type {\n",
              "        vertical-align: middle;\n",
              "    }\n",
              "\n",
              "    .dataframe tbody tr th {\n",
              "        vertical-align: top;\n",
              "    }\n",
              "\n",
              "    .dataframe thead th {\n",
              "        text-align: right;\n",
              "    }\n",
              "</style>\n",
              "<table border=\"1\" class=\"dataframe\">\n",
              "  <thead>\n",
              "    <tr style=\"text-align: right;\">\n",
              "      <th></th>\n",
              "      <th>Date</th>\n",
              "      <th>Open</th>\n",
              "      <th>High</th>\n",
              "      <th>Low</th>\n",
              "      <th>Close</th>\n",
              "      <th>Adj Close</th>\n",
              "      <th>Volume</th>\n",
              "    </tr>\n",
              "  </thead>\n",
              "  <tbody>\n",
              "    <tr>\n",
              "      <th>0</th>\n",
              "      <td>2018-02-05</td>\n",
              "      <td>39.775002</td>\n",
              "      <td>40.970001</td>\n",
              "      <td>39.000000</td>\n",
              "      <td>39.122501</td>\n",
              "      <td>37.201580</td>\n",
              "      <td>290954000</td>\n",
              "    </tr>\n",
              "    <tr>\n",
              "      <th>1</th>\n",
              "      <td>2018-02-06</td>\n",
              "      <td>38.707500</td>\n",
              "      <td>40.930000</td>\n",
              "      <td>38.500000</td>\n",
              "      <td>40.757500</td>\n",
              "      <td>38.756302</td>\n",
              "      <td>272975200</td>\n",
              "    </tr>\n",
              "    <tr>\n",
              "      <th>2</th>\n",
              "      <td>2018-02-07</td>\n",
              "      <td>40.772499</td>\n",
              "      <td>40.849998</td>\n",
              "      <td>39.767502</td>\n",
              "      <td>39.884998</td>\n",
              "      <td>37.926624</td>\n",
              "      <td>206434400</td>\n",
              "    </tr>\n",
              "    <tr>\n",
              "      <th>3</th>\n",
              "      <td>2018-02-08</td>\n",
              "      <td>40.072498</td>\n",
              "      <td>40.250000</td>\n",
              "      <td>38.757500</td>\n",
              "      <td>38.787498</td>\n",
              "      <td>36.883022</td>\n",
              "      <td>217562000</td>\n",
              "    </tr>\n",
              "    <tr>\n",
              "      <th>4</th>\n",
              "      <td>2018-02-09</td>\n",
              "      <td>39.267502</td>\n",
              "      <td>39.472500</td>\n",
              "      <td>37.560001</td>\n",
              "      <td>39.102501</td>\n",
              "      <td>37.334156</td>\n",
              "      <td>282690400</td>\n",
              "    </tr>\n",
              "    <tr>\n",
              "      <th>...</th>\n",
              "      <td>...</td>\n",
              "      <td>...</td>\n",
              "      <td>...</td>\n",
              "      <td>...</td>\n",
              "      <td>...</td>\n",
              "      <td>...</td>\n",
              "      <td>...</td>\n",
              "    </tr>\n",
              "    <tr>\n",
              "      <th>1254</th>\n",
              "      <td>2023-01-30</td>\n",
              "      <td>144.960007</td>\n",
              "      <td>145.550003</td>\n",
              "      <td>142.850006</td>\n",
              "      <td>143.000000</td>\n",
              "      <td>143.000000</td>\n",
              "      <td>64015300</td>\n",
              "    </tr>\n",
              "    <tr>\n",
              "      <th>1255</th>\n",
              "      <td>2023-01-31</td>\n",
              "      <td>142.699997</td>\n",
              "      <td>144.339996</td>\n",
              "      <td>142.279999</td>\n",
              "      <td>144.289993</td>\n",
              "      <td>144.289993</td>\n",
              "      <td>65874500</td>\n",
              "    </tr>\n",
              "    <tr>\n",
              "      <th>1256</th>\n",
              "      <td>2023-02-01</td>\n",
              "      <td>143.970001</td>\n",
              "      <td>146.610001</td>\n",
              "      <td>141.320007</td>\n",
              "      <td>145.429993</td>\n",
              "      <td>145.429993</td>\n",
              "      <td>77663600</td>\n",
              "    </tr>\n",
              "    <tr>\n",
              "      <th>1257</th>\n",
              "      <td>2023-02-02</td>\n",
              "      <td>148.899994</td>\n",
              "      <td>151.179993</td>\n",
              "      <td>148.169998</td>\n",
              "      <td>150.820007</td>\n",
              "      <td>150.820007</td>\n",
              "      <td>118339000</td>\n",
              "    </tr>\n",
              "    <tr>\n",
              "      <th>1258</th>\n",
              "      <td>2023-02-03</td>\n",
              "      <td>148.029999</td>\n",
              "      <td>157.380005</td>\n",
              "      <td>147.830002</td>\n",
              "      <td>154.500000</td>\n",
              "      <td>154.500000</td>\n",
              "      <td>154279900</td>\n",
              "    </tr>\n",
              "  </tbody>\n",
              "</table>\n",
              "<p>1259 rows × 7 columns</p>\n",
              "</div>\n",
              "      <button class=\"colab-df-convert\" onclick=\"convertToInteractive('df-71bfb930-3464-4376-8647-5b10db00eb98')\"\n",
              "              title=\"Convert this dataframe to an interactive table.\"\n",
              "              style=\"display:none;\">\n",
              "        \n",
              "  <svg xmlns=\"http://www.w3.org/2000/svg\" height=\"24px\"viewBox=\"0 0 24 24\"\n",
              "       width=\"24px\">\n",
              "    <path d=\"M0 0h24v24H0V0z\" fill=\"none\"/>\n",
              "    <path d=\"M18.56 5.44l.94 2.06.94-2.06 2.06-.94-2.06-.94-.94-2.06-.94 2.06-2.06.94zm-11 1L8.5 8.5l.94-2.06 2.06-.94-2.06-.94L8.5 2.5l-.94 2.06-2.06.94zm10 10l.94 2.06.94-2.06 2.06-.94-2.06-.94-.94-2.06-.94 2.06-2.06.94z\"/><path d=\"M17.41 7.96l-1.37-1.37c-.4-.4-.92-.59-1.43-.59-.52 0-1.04.2-1.43.59L10.3 9.45l-7.72 7.72c-.78.78-.78 2.05 0 2.83L4 21.41c.39.39.9.59 1.41.59.51 0 1.02-.2 1.41-.59l7.78-7.78 2.81-2.81c.8-.78.8-2.07 0-2.86zM5.41 20L4 18.59l7.72-7.72 1.47 1.35L5.41 20z\"/>\n",
              "  </svg>\n",
              "      </button>\n",
              "      \n",
              "  <style>\n",
              "    .colab-df-container {\n",
              "      display:flex;\n",
              "      flex-wrap:wrap;\n",
              "      gap: 12px;\n",
              "    }\n",
              "\n",
              "    .colab-df-convert {\n",
              "      background-color: #E8F0FE;\n",
              "      border: none;\n",
              "      border-radius: 50%;\n",
              "      cursor: pointer;\n",
              "      display: none;\n",
              "      fill: #1967D2;\n",
              "      height: 32px;\n",
              "      padding: 0 0 0 0;\n",
              "      width: 32px;\n",
              "    }\n",
              "\n",
              "    .colab-df-convert:hover {\n",
              "      background-color: #E2EBFA;\n",
              "      box-shadow: 0px 1px 2px rgba(60, 64, 67, 0.3), 0px 1px 3px 1px rgba(60, 64, 67, 0.15);\n",
              "      fill: #174EA6;\n",
              "    }\n",
              "\n",
              "    [theme=dark] .colab-df-convert {\n",
              "      background-color: #3B4455;\n",
              "      fill: #D2E3FC;\n",
              "    }\n",
              "\n",
              "    [theme=dark] .colab-df-convert:hover {\n",
              "      background-color: #434B5C;\n",
              "      box-shadow: 0px 1px 3px 1px rgba(0, 0, 0, 0.15);\n",
              "      filter: drop-shadow(0px 1px 2px rgba(0, 0, 0, 0.3));\n",
              "      fill: #FFFFFF;\n",
              "    }\n",
              "  </style>\n",
              "\n",
              "      <script>\n",
              "        const buttonEl =\n",
              "          document.querySelector('#df-71bfb930-3464-4376-8647-5b10db00eb98 button.colab-df-convert');\n",
              "        buttonEl.style.display =\n",
              "          google.colab.kernel.accessAllowed ? 'block' : 'none';\n",
              "\n",
              "        async function convertToInteractive(key) {\n",
              "          const element = document.querySelector('#df-71bfb930-3464-4376-8647-5b10db00eb98');\n",
              "          const dataTable =\n",
              "            await google.colab.kernel.invokeFunction('convertToInteractive',\n",
              "                                                     [key], {});\n",
              "          if (!dataTable) return;\n",
              "\n",
              "          const docLinkHtml = 'Like what you see? Visit the ' +\n",
              "            '<a target=\"_blank\" href=https://colab.research.google.com/notebooks/data_table.ipynb>data table notebook</a>'\n",
              "            + ' to learn more about interactive tables.';\n",
              "          element.innerHTML = '';\n",
              "          dataTable['output_type'] = 'display_data';\n",
              "          await google.colab.output.renderOutput(dataTable, element);\n",
              "          const docLink = document.createElement('div');\n",
              "          docLink.innerHTML = docLinkHtml;\n",
              "          element.appendChild(docLink);\n",
              "        }\n",
              "      </script>\n",
              "    </div>\n",
              "  </div>\n",
              "  "
            ]
          },
          "metadata": {},
          "execution_count": 13
        }
      ]
    },
    {
      "cell_type": "code",
      "source": [
        "df.shape"
      ],
      "metadata": {
        "colab": {
          "base_uri": "https://localhost:8080/"
        },
        "id": "BZ7nokcw7rsd",
        "outputId": "965841c9-9d48-472e-9015-6c3407899652"
      },
      "execution_count": 14,
      "outputs": [
        {
          "output_type": "execute_result",
          "data": {
            "text/plain": [
              "(1259, 7)"
            ]
          },
          "metadata": {},
          "execution_count": 14
        }
      ]
    },
    {
      "cell_type": "code",
      "source": [
        "plt.figure(figsize=(16,8))\n",
        "plt.title('Close Price History')\n",
        "plt.plot(df['Close'])\n",
        "plt.xlabel('Date', fontsize=18)\n",
        "plt.ylabel('Close Price USD',fontsize=18)\n",
        "plt.show()"
      ],
      "metadata": {
        "colab": {
          "base_uri": "https://localhost:8080/",
          "height": 558
        },
        "id": "7Miq1z-k8pHF",
        "outputId": "59f208e8-1aa4-478c-e710-b2eecfb2f6bb"
      },
      "execution_count": 15,
      "outputs": [
        {
          "output_type": "display_data",
          "data": {
            "text/plain": [
              "<Figure size 1152x576 with 1 Axes>"
            ],
            "image/png": "[encoded data removed]"
          },
          "metadata": {}
        }
      ]
    },
    {
      "cell_type": "code",
      "source": [
        "data=df.filter(['Close'])\n",
        "dataset=data.values\n",
        "training_data_len=math.ceil(len(dataset)*.8)\n",
        "training_data_len"
      ],
      "metadata": {
        "colab": {
          "base_uri": "https://localhost:8080/"
        },
        "id": "Nk4A5CgI9K2H",
        "outputId": "545c3eda-519e-45bd-aea0-42a1ebe0d39b"
      },
      "execution_count": 16,
      "outputs": [
        {
          "output_type": "execute_result",
          "data": {
            "text/plain": [
              "1008"
            ]
          },
          "metadata": {},
          "execution_count": 16
        }
      ]
    },
    {
      "cell_type": "code",
      "source": [
        "scaler=MinMaxScaler(feature_range=(0,1))\n",
        "scale_data=scaler.fit_transform(dataset)\n",
        "\n",
        "scale_data"
      ],
      "metadata": {
        "colab": {
          "base_uri": "https://localhost:8080/"
        },
        "id": "WoNqMmUb_O34",
        "outputId": "225abf30-83ea-4cfe-99e2-8745bb51ff35"
      },
      "execution_count": 17,
      "outputs": [
        {
          "output_type": "execute_result",
          "data": {
            "text/plain": [
              "array([[0.02440898],\n",
              "       [0.03557224],\n",
              "       [0.02961507],\n",
              "       ...,\n",
              "       [0.75024321],\n",
              "       [0.78704454],\n",
              "       [0.81217038]])"
            ]
          },
          "metadata": {},
          "execution_count": 17
        }
      ]
    },
    {
      "cell_type": "code",
      "source": [
        "train_data=scale_data[0:training_data_len,:]\n",
        "x_train=[]\n",
        "y_train=[]\n",
        "\n",
        "for i in range(60,len(train_data)):\n",
        "  x_train.append(train_data[i-60:i,0])\n",
        "  y_train.append(train_data[i,0])\n",
        "  if i<=61:\n",
        "    print(x_train)\n",
        "    print(y_train)\n",
        "    print()"
      ],
      "metadata": {
        "colab": {
          "base_uri": "https://localhost:8080/"
        },
        "id": "pnqiSjOi_szw",
        "outputId": "41b96a4c-569b-4b54-8164-ccc71c567b25"
      },
      "execution_count": 19,
      "outputs": [
        {
          "output_type": "stream",
          "name": "stdout",
          "text": [
            "[array([0.02440898, 0.03557224, 0.02961507, 0.02212168, 0.02427243,\n",
            "       0.03502604, 0.0378083 , 0.04298027, 0.05257319, 0.05161729,\n",
            "       0.0506273 , 0.0492959 , 0.05173679, 0.05685755, 0.06278057,\n",
            "       0.06179056, 0.06132968, 0.05600409, 0.05806948, 0.0591107 ,\n",
            "       0.05885465, 0.0560553 , 0.05931553, 0.06450456, 0.06747461,\n",
            "       0.06448749, 0.06187591, 0.06223434, 0.061159  , 0.05651618,\n",
            "       0.05641376, 0.04963728, 0.04550654, 0.03883247, 0.05219766,\n",
            "       0.04463599, 0.04146111, 0.04368012, 0.04180249, 0.04472134,\n",
            "       0.05021763, 0.05224887, 0.04470428, 0.04755484, 0.05301698,\n",
            "       0.05163438, 0.05453614, 0.05554322, 0.05740378, 0.06153453,\n",
            "       0.06085174, 0.05224887, 0.04016386, 0.03934454, 0.03541862,\n",
            "       0.03663052, 0.03760348, 0.03436034, 0.03937867, 0.04593327])]\n",
            "[0.0586839727036193]\n",
            "\n",
            "[array([0.02440898, 0.03557224, 0.02961507, 0.02212168, 0.02427243,\n",
            "       0.03502604, 0.0378083 , 0.04298027, 0.05257319, 0.05161729,\n",
            "       0.0506273 , 0.0492959 , 0.05173679, 0.05685755, 0.06278057,\n",
            "       0.06179056, 0.06132968, 0.05600409, 0.05806948, 0.0591107 ,\n",
            "       0.05885465, 0.0560553 , 0.05931553, 0.06450456, 0.06747461,\n",
            "       0.06448749, 0.06187591, 0.06223434, 0.061159  , 0.05651618,\n",
            "       0.05641376, 0.04963728, 0.04550654, 0.03883247, 0.05219766,\n",
            "       0.04463599, 0.04146111, 0.04368012, 0.04180249, 0.04472134,\n",
            "       0.05021763, 0.05224887, 0.04470428, 0.04755484, 0.05301698,\n",
            "       0.05163438, 0.05453614, 0.05554322, 0.05740378, 0.06153453,\n",
            "       0.06085174, 0.05224887, 0.04016386, 0.03934454, 0.03541862,\n",
            "       0.03663052, 0.03760348, 0.03436034, 0.03937867, 0.04593327]), array([0.03557224, 0.02961507, 0.02212168, 0.02427243, 0.03502604,\n",
            "       0.0378083 , 0.04298027, 0.05257319, 0.05161729, 0.0506273 ,\n",
            "       0.0492959 , 0.05173679, 0.05685755, 0.06278057, 0.06179056,\n",
            "       0.06132968, 0.05600409, 0.05806948, 0.0591107 , 0.05885465,\n",
            "       0.0560553 , 0.05931553, 0.06450456, 0.06747461, 0.06448749,\n",
            "       0.06187591, 0.06223434, 0.061159  , 0.05651618, 0.05641376,\n",
            "       0.04963728, 0.04550654, 0.03883247, 0.05219766, 0.04463599,\n",
            "       0.04146111, 0.04368012, 0.04180249, 0.04472134, 0.05021763,\n",
            "       0.05224887, 0.04470428, 0.04755484, 0.05301698, 0.05163438,\n",
            "       0.05453614, 0.05554322, 0.05740378, 0.06153453, 0.06085174,\n",
            "       0.05224887, 0.04016386, 0.03934454, 0.03541862, 0.03663052,\n",
            "       0.03760348, 0.03436034, 0.03937867, 0.04593327, 0.05868397])]\n",
            "[0.0586839727036193, 0.05923017397204777]\n",
            "\n"
          ]
        }
      ]
    },
    {
      "cell_type": "code",
      "source": [
        "x_train,y_train=np.array(x_train),np.array(y_train)"
      ],
      "metadata": {
        "id": "ZBhaeCxSBC7Q"
      },
      "execution_count": 20,
      "outputs": []
    },
    {
      "cell_type": "code",
      "source": [
        "x_train=np.reshape(x_train,(x_train.shape[0],x_train.shape[1],1))\n",
        "x_train.shape\n"
      ],
      "metadata": {
        "colab": {
          "base_uri": "https://localhost:8080/"
        },
        "id": "hcxIHOiIBtWw",
        "outputId": "5c37b5a2-0b25-4d8d-c038-4fc42c0b6441"
      },
      "execution_count": 22,
      "outputs": [
        {
          "output_type": "execute_result",
          "data": {
            "text/plain": [
              "(948, 60, 1)"
            ]
          },
          "metadata": {},
          "execution_count": 22
        }
      ]
    },
    {
      "cell_type": "code",
      "source": [
        "model=Sequential()\n",
        "model.add(LSTM(50,return_sequences=True,input_shape=(x_train.shape[1],1)))\n",
        "model.add(LSTM(50,return_sequences=False))\n",
        "model.add(Dense(25))\n",
        "model.add(Dense(1))"
      ],
      "metadata": {
        "id": "oMcu8tBEB1yK"
      },
      "execution_count": 25,
      "outputs": []
    },
    {
      "cell_type": "code",
      "source": [
        "model.compile(optimizer='adam',loss='mean_squared_error')"
      ],
      "metadata": {
        "id": "vyIxzxebCumD"
      },
      "execution_count": 26,
      "outputs": []
    },
    {
      "cell_type": "code",
      "source": [
        "model.fit(x_train,y_train,batch_size=1,epochs=1)"
      ],
      "metadata": {
        "colab": {
          "base_uri": "https://localhost:8080/"
        },
        "id": "647tG6LTDEs_",
        "outputId": "20794cc5-90f1-48f5-afbd-53afca971eb3"
      },
      "execution_count": 27,
      "outputs": [
        {
          "output_type": "stream",
          "name": "stdout",
          "text": [
            "948/948 [==============================] - 28s 26ms/step - loss: 0.0025\n"
          ]
        },
        {
          "output_type": "execute_result",
          "data": {
            "text/plain": [
              "<keras.callbacks.History at 0x7f1519aef700>"
            ]
          },
          "metadata": {},
          "execution_count": 27
        }
      ]
    },
    {
      "cell_type": "code",
      "source": [
        "test_data=scale_data[training_data_len - 60:,:]\n",
        "x_test=[]\n",
        "y_test=dataset[training_data_len:,:]\n",
        "for i in range(60,len(test_data)):\n",
        "  x_test.append(test_data[i-60:i,0])"
      ],
      "metadata": {
        "id": "drAD1qr2DQeR"
      },
      "execution_count": 28,
      "outputs": []
    },
    {
      "cell_type": "code",
      "source": [
        "x_test=np.array(x_test)"
      ],
      "metadata": {
        "id": "mWrYdnmoEFII"
      },
      "execution_count": 29,
      "outputs": []
    },
    {
      "cell_type": "code",
      "source": [
        "x_test=np.reshape(x_test,(x_test.shape[0],x_test.shape[1],1))\n"
      ],
      "metadata": {
        "id": "MO-o6fH-ERmI"
      },
      "execution_count": 30,
      "outputs": []
    },
    {
      "cell_type": "code",
      "source": [
        "predictions=model.predict(x_test)\n",
        "predictions=scaler.inverse_transform(predictions)\n"
      ],
      "metadata": {
        "colab": {
          "base_uri": "https://localhost:8080/"
        },
        "id": "Ba1Bux75Esgu",
        "outputId": "1837ca05-1b38-40ed-8885-3b3488b26ebf"
      },
      "execution_count": 31,
      "outputs": [
        {
          "output_type": "stream",
          "name": "stdout",
          "text": [
            "8/8 [==============================] - 2s 14ms/step\n"
          ]
        }
      ]
    },
    {
      "cell_type": "code",
      "source": [
        "rmse=np.sqrt(np.mean(predictions-y_test)**2)\n",
        "rmse"
      ],
      "metadata": {
        "colab": {
          "base_uri": "https://localhost:8080/"
        },
        "id": "Q8uvBB-1FG1i",
        "outputId": "b4a483c9-cc1b-451d-f43c-74208052f3e3"
      },
      "execution_count": 32,
      "outputs": [
        {
          "output_type": "execute_result",
          "data": {
            "text/plain": [
              "2.5738105772729396"
            ]
          },
          "metadata": {},
          "execution_count": 32
        }
      ]
    },
    {
      "cell_type": "code",
      "source": [
        "train=data[:training_data_len]\n",
        "valid=data[training_data_len:]\n",
        "valid['predictions']=predictions\n",
        "\n",
        "plt.figure(figsize=(16,8))\n",
        "plt.title('Model')\n",
        "plt.xlabel('DATE',fontsize=18)\n",
        "plt.ylabel('Close Price USD',fontsize=18)\n",
        "plt.plot(train['Close'])\n",
        "plt.plot(valid[['Close','predictions']])\n",
        "plt.legend(['Train','Val','predictions'],loc='lower right ')\n",
        "plt.show()\n"
      ],
      "metadata": {
        "colab": {
          "base_uri": "https://localhost:8080/",
          "height": 913
        },
        "id": "UKWjsFaHFeS5",
        "outputId": "d3fd709e-a4c5-42b2-eb67-50f73aacb6cf"
      },
      "execution_count": 35,
      "outputs": [
        {
          "output_type": "stream",
          "name": "stderr",
          "text": [
            "<ipython-input-35-39db9ca16beb>:3: SettingWithCopyWarning: \n",
            "A value is trying to be set on a copy of a slice from a DataFrame.\n",
            "Try using .loc[row_indexer,col_indexer] = value instead\n",
            "\n",
            "See the caveats in the documentation: https://pandas.pydata.org/pandas-docs/stable/user_guide/indexing.html#returning-a-view-versus-a-copy\n",
            "  valid['predictions']=predictions\n",
            "<ipython-input-35-39db9ca16beb>:11: MatplotlibDeprecationWarning: Unrecognized location 'lower right '. Falling back on 'best'; valid locations are\n",
            "\tbest\n",
            "\tupper right\n",
            "\tupper left\n",
            "\tlower left\n",
            "\tlower right\n",
            "\tright\n",
            "\tcenter left\n",
            "\tcenter right\n",
            "\tlower center\n",
            "\tupper center\n",
            "\tcenter\n",
            "This will raise an exception in 3.3.\n",
            "  plt.legend(['Train','Val','predictions'],loc='lower right ')\n"
          ]
        },
        {
          "output_type": "display_data",
          "data": {
            "text/plain": [
              "<Figure size 1152x576 with 1 Axes>"
            ],
            "image/png": "[encoded data removed]"
          },
          "metadata": {}
        }
      ]
    },
    {
      "cell_type": "code",
      "source": [
        "valid"
      ],
      "metadata": {
        "colab": {
          "base_uri": "https://localhost:8080/",
          "height": 423
        },
        "id": "jxfReXmTGoli",
        "outputId": "c9b26a28-bf0e-43a5-8835-335436555eff"
      },
      "execution_count": 36,
      "outputs": [
        {
          "output_type": "execute_result",
          "data": {
            "text/plain": [
              "           Close  predictions\n",
              "1008  172.389999   163.647842\n",
              "1009  171.660004   164.527420\n",
              "1010  174.830002   165.184387\n",
              "1011  176.279999   165.877243\n",
              "1012  172.119995   166.621033\n",
              "...          ...          ...\n",
              "1254  143.000000   137.494476\n",
              "1255  144.289993   138.444809\n",
              "1256  145.429993   139.277313\n",
              "1257  150.820007   140.051453\n",
              "1258  154.500000   141.099655\n",
              "\n",
              "[251 rows x 2 columns]"
            ],
            "text/html": [
              "\n",
              "  <div id=\"df-e31b47d1-f4a3-406f-8cca-b686fc6d343d\">\n",
              "    <div class=\"colab-df-container\">\n",
              "      <div>\n",
              "<style scoped>\n",
              "    .dataframe tbody tr th:only-of-type {\n",
              "        vertical-align: middle;\n",
              "    }\n",
              "\n",
              "    .dataframe tbody tr th {\n",
              "        vertical-align: top;\n",
              "    }\n",
              "\n",
              "    .dataframe thead th {\n",
              "        text-align: right;\n",
              "    }\n",
              "</style>\n",
              "<table border=\"1\" class=\"dataframe\">\n",
              "  <thead>\n",
              "    <tr style=\"text-align: right;\">\n",
              "      <th></th>\n",
              "      <th>Close</th>\n",
              "      <th>predictions</th>\n",
              "    </tr>\n",
              "  </thead>\n",
              "  <tbody>\n",
              "    <tr>\n",
              "      <th>1008</th>\n",
              "      <td>172.389999</td>\n",
              "      <td>163.647842</td>\n",
              "    </tr>\n",
              "    <tr>\n",
              "      <th>1009</th>\n",
              "      <td>171.660004</td>\n",
              "      <td>164.527420</td>\n",
              "    </tr>\n",
              "    <tr>\n",
              "      <th>1010</th>\n",
              "      <td>174.830002</td>\n",
              "      <td>165.184387</td>\n",
              "    </tr>\n",
              "    <tr>\n",
              "      <th>1011</th>\n",
              "      <td>176.279999</td>\n",
              "      <td>165.877243</td>\n",
              "    </tr>\n",
              "    <tr>\n",
              "      <th>1012</th>\n",
              "      <td>172.119995</td>\n",
              "      <td>166.621033</td>\n",
              "    </tr>\n",
              "    <tr>\n",
              "      <th>...</th>\n",
              "      <td>...</td>\n",
              "      <td>...</td>\n",
              "    </tr>\n",
              "    <tr>\n",
              "      <th>1254</th>\n",
              "      <td>143.000000</td>\n",
              "      <td>137.494476</td>\n",
              "    </tr>\n",
              "    <tr>\n",
              "      <th>1255</th>\n",
              "      <td>144.289993</td>\n",
              "      <td>138.444809</td>\n",
              "    </tr>\n",
              "    <tr>\n",
              "      <th>1256</th>\n",
              "      <td>145.429993</td>\n",
              "      <td>139.277313</td>\n",
              "    </tr>\n",
              "    <tr>\n",
              "      <th>1257</th>\n",
              "      <td>150.820007</td>\n",
              "      <td>140.051453</td>\n",
              "    </tr>\n",
              "    <tr>\n",
              "      <th>1258</th>\n",
              "      <td>154.500000</td>\n",
              "      <td>141.099655</td>\n",
              "    </tr>\n",
              "  </tbody>\n",
              "</table>\n",
              "<p>251 rows × 2 columns</p>\n",
              "</div>\n",
              "      <button class=\"colab-df-convert\" onclick=\"convertToInteractive('df-e31b47d1-f4a3-406f-8cca-b686fc6d343d')\"\n",
              "              title=\"Convert this dataframe to an interactive table.\"\n",
              "              style=\"display:none;\">\n",
              "        \n",
              "  <svg xmlns=\"http://www.w3.org/2000/svg\" height=\"24px\"viewBox=\"0 0 24 24\"\n",
              "       width=\"24px\">\n",
              "    <path d=\"M0 0h24v24H0V0z\" fill=\"none\"/>\n",
              "    <path d=\"M18.56 5.44l.94 2.06.94-2.06 2.06-.94-2.06-.94-.94-2.06-.94 2.06-2.06.94zm-11 1L8.5 8.5l.94-2.06 2.06-.94-2.06-.94L8.5 2.5l-.94 2.06-2.06.94zm10 10l.94 2.06.94-2.06 2.06-.94-2.06-.94-.94-2.06-.94 2.06-2.06.94z\"/><path d=\"M17.41 7.96l-1.37-1.37c-.4-.4-.92-.59-1.43-.59-.52 0-1.04.2-1.43.59L10.3 9.45l-7.72 7.72c-.78.78-.78 2.05 0 2.83L4 21.41c.39.39.9.59 1.41.59.51 0 1.02-.2 1.41-.59l7.78-7.78 2.81-2.81c.8-.78.8-2.07 0-2.86zM5.41 20L4 18.59l7.72-7.72 1.47 1.35L5.41 20z\"/>\n",
              "  </svg>\n",
              "      </button>\n",
              "      \n",
              "  <style>\n",
              "    .colab-df-container {\n",
              "      display:flex;\n",
              "      flex-wrap:wrap;\n",
              "      gap: 12px;\n",
              "    }\n",
              "\n",
              "    .colab-df-convert {\n",
              "      background-color: #E8F0FE;\n",
              "      border: none;\n",
              "      border-radius: 50%;\n",
              "      cursor: pointer;\n",
              "      display: none;\n",
              "      fill: #1967D2;\n",
              "      height: 32px;\n",
              "      padding: 0 0 0 0;\n",
              "      width: 32px;\n",
              "    }\n",
              "\n",
              "    .colab-df-convert:hover {\n",
              "      background-color: #E2EBFA;\n",
              "      box-shadow: 0px 1px 2px rgba(60, 64, 67, 0.3), 0px 1px 3px 1px rgba(60, 64, 67, 0.15);\n",
              "      fill: #174EA6;\n",
              "    }\n",
              "\n",
              "    [theme=dark] .colab-df-convert {\n",
              "      background-color: #3B4455;\n",
              "      fill: #D2E3FC;\n",
              "    }\n",
              "\n",
              "    [theme=dark] .colab-df-convert:hover {\n",
              "      background-color: #434B5C;\n",
              "      box-shadow: 0px 1px 3px 1px rgba(0, 0, 0, 0.15);\n",
              "      filter: drop-shadow(0px 1px 2px rgba(0, 0, 0, 0.3));\n",
              "      fill: #FFFFFF;\n",
              "    }\n",
              "  </style>\n",
              "\n",
              "      <script>\n",
              "        const buttonEl =\n",
              "          document.querySelector('#df-e31b47d1-f4a3-406f-8cca-b686fc6d343d button.colab-df-convert');\n",
              "        buttonEl.style.display =\n",
              "          google.colab.kernel.accessAllowed ? 'block' : 'none';\n",
              "\n",
              "        async function convertToInteractive(key) {\n",
              "          const element = document.querySelector('#df-e31b47d1-f4a3-406f-8cca-b686fc6d343d');\n",
              "          const dataTable =\n",
              "            await google.colab.kernel.invokeFunction('convertToInteractive',\n",
              "                                                     [key], {});\n",
              "          if (!dataTable) return;\n",
              "\n",
              "          const docLinkHtml = 'Like what you see? Visit the ' +\n",
              "            '<a target=\"_blank\" href=https://colab.research.google.com/notebooks/data_table.ipynb>data table notebook</a>'\n",
              "            + ' to learn more about interactive tables.';\n",
              "          element.innerHTML = '';\n",
              "          dataTable['output_type'] = 'display_data';\n",
              "          await google.colab.output.renderOutput(dataTable, element);\n",
              "          const docLink = document.createElement('div');\n",
              "          docLink.innerHTML = docLinkHtml;\n",
              "          element.appendChild(docLink);\n",
              "        }\n",
              "      </script>\n",
              "    </div>\n",
              "  </div>\n",
              "  "
            ]
          },
          "metadata": {},
          "execution_count": 36
        }
      ]
    },
    {
      "cell_type": "code",
      "source": [],
      "metadata": {
        "id": "zYDNkhLYJitf"
      },
      "execution_count": null,
      "outputs": []
    }
  ]
}